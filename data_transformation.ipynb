{
 "cells": [
  {
   "cell_type": "code",
   "execution_count": 1,
   "id": "021c1a0b",
   "metadata": {},
   "outputs": [],
   "source": [
    "import langchain\n",
    "import langchain_community"
   ]
  },
  {
   "cell_type": "code",
   "execution_count": 2,
   "id": "5d1173fd",
   "metadata": {},
   "outputs": [],
   "source": [
    "from langchain_community.document_loaders import TextLoader"
   ]
  },
  {
   "cell_type": "code",
   "execution_count": 3,
   "id": "10e0eef7",
   "metadata": {},
   "outputs": [],
   "source": [
    "from langchain_community.document_loaders import PyPDFLoader"
   ]
  },
  {
   "cell_type": "code",
   "execution_count": 4,
   "id": "0c52b7c6",
   "metadata": {},
   "outputs": [],
   "source": [
    "pdf_loader=PyPDFLoader(\"data/task2.pdf\")"
   ]
  },
  {
   "cell_type": "code",
   "execution_count": 5,
   "id": "8042ff73",
   "metadata": {},
   "outputs": [
    {
     "name": "stderr",
     "output_type": "stream",
     "text": [
      "Ignoring wrong pointing object 32 0 (offset 0)\n",
      "Ignoring wrong pointing object 33 0 (offset 0)\n"
     ]
    }
   ],
   "source": [
    "docs=pdf_loader.load()"
   ]
  },
  {
   "cell_type": "code",
   "execution_count": 6,
   "id": "1b2a7103",
   "metadata": {},
   "outputs": [
    {
     "data": {
      "text/plain": [
       "[Document(metadata={'producer': 'macOS Version 15.4 (Build 24E248) Quartz PDFContext', 'creator': 'Pages', 'creationdate': \"D:20250417073851Z00'00'\", 'title': 'task2', 'moddate': \"D:20250417073851Z00'00'\", 'source': 'data/task2.pdf', 'total_pages': 6, 'page': 0, 'page_label': '1'}, page_content='How AI is Changing the Face of \\nCustomer Service – A Case Study on \\nAmazon & Zappos \\nAbstract\\nWith the rise of digital technology, companies are under pressure to offer faster and more efﬁcient \\ncustomer support. Artiﬁcial Intelligence (AI) has stepped in to ﬁll this gap. In this case study, we \\nexplore how Amazon and Zappos are using AI tools like chatbots and virtual assistants to improve \\ncustomer experience. We’ll look at how machine learning models help resolve customer queries \\nquicker, what challenges exist in making AI feel more human, and what the future holds for AI in \\ncustomer support. This study also includes a mini-project proposal where students can build a basic \\nchatbot.\\n1. Introduction\\nCustomer service is a key factor in customer satisfaction and loyalty. With millions of daily users, \\ncompanies like Amazon and Zappos need solutions that scale and respond quickly. AI is helping \\nthem manage huge volumes of customer queries efﬁciently. While these tools can’t replace human \\nempathy, they’re getting better at handling common problems and saving time for both companies \\nand customers.\\n2. How Amazon Uses AI in Customer Service'),\n",
       " Document(metadata={'producer': 'macOS Version 15.4 (Build 24E248) Quartz PDFContext', 'creator': 'Pages', 'creationdate': \"D:20250417073851Z00'00'\", 'title': 'task2', 'moddate': \"D:20250417073851Z00'00'\", 'source': 'data/task2.pdf', 'total_pages': 6, 'page': 1, 'page_label': '2'}, page_content=\"Amazon has built one of the most advanced AI systems in the customer service world. Here's how \\nthey use it:\\n2.1 Chatbots and Virtual Assistants\\nAmazon’s customer service chatbots can answer questions about orders, deliveries, returns, and \\nmore. These bots are built using Amazon’s own tools like Amazon Lex and are available 24/7.\\n2.2 Alexa for Customer Help\\nAmazon Alexa isn’t just for music or news. It can also tell you where your order is, help with \\nsimple troubleshooting, and connect you to a human agent if needed. This hands-free method is \\ngreat for busy users.\\n2.3 Machine Learning Models\\nBehind the scenes, Amazon uses data to learn what customers need. Their systems automatically \\nroute queries, prioritize important issues, and offer personalized product recommendations based on \\nbrowsing and purchase history.\\n3. How Zappos Uses AI Differently\"),\n",
       " Document(metadata={'producer': 'macOS Version 15.4 (Build 24E248) Quartz PDFContext', 'creator': 'Pages', 'creationdate': \"D:20250417073851Z00'00'\", 'title': 'task2', 'moddate': \"D:20250417073851Z00'00'\", 'source': 'data/task2.pdf', 'total_pages': 6, 'page': 2, 'page_label': '3'}, page_content='Zappos is known for its unique approach to customer service. Even though it’s owned by Amazon, \\nit does things a bit differently.\\n3.1 A Mix of Humans and AI\\nZappos believes in human connections. So, while it uses AI to ﬁlter and understand basic customer \\nneeds, it relies on human agents to solve more complex problems. This balance helps keep the \\npersonal touch.\\n3.2 Smarter Customer Data Tools\\nAI is used behind the scenes to help agents know the customer better. Based on previous purchases \\nand chats, Zappos’ systems give suggestions to customer reps, which leads to quicker and more \\npersonalized support.\\n3.3 Sentiment Detection\\nZappos uses AI to read the tone of messages. If a customer sounds angry or upset, the system \\nhighlights the case for faster human handling. This way, serious complaints get priority.\\n4. Comparing Traditional and AI-Powered Customer Support\\nDiagram: Chatbot Workﬂow [Visual idea: Customer > Bot understands intent > Picks response > \\nSends reply or forwards to human if needed]\\n5. Why AI Helps in Customer Service\\n• Shorter Wait Times: Bots can talk to hundreds of people at once.\\n• Faster Problem Solving: They quickly pull up order or product info.\\n• Lower Costs: One bot can do the job of many agents for simple tasks.\\n• Smart Routing: Urgent queries go to the right person or team automatically.\\nFeature Traditional Support AI-Powered \\nSupport\\nAvailable \\nHours Limited (usually 9–5) 24/7 Availability\\nHandling \\nSpeed\\nSlow for high \\nvolumes Fast and scalable\\nCost High labor cost Lower long-term cost\\nPersonal Touch High Depends on training\\nConsistency Varies by agent Always consistent'),\n",
       " Document(metadata={'producer': 'macOS Version 15.4 (Build 24E248) Quartz PDFContext', 'creator': 'Pages', 'creationdate': \"D:20250417073851Z00'00'\", 'title': 'task2', 'moddate': \"D:20250417073851Z00'00'\", 'source': 'data/task2.pdf', 'total_pages': 6, 'page': 3, 'page_label': '4'}, page_content='6. Sentiment Analysis & Auto-Response: How They Work\\n6.1 Understanding Emotions with Sentiment Analysis\\nAI tools try to read emotions from the way people type. For example:\\n• \"I need this ﬁxed right now!\" might be ﬂagged as urgent or negative.\\n• \"Thanks for the help!\" is seen as a positive comment.\\nThis helps companies decide when to get a human involved or when to offer a discount or apology.\\n6.2 Quick Replies with Auto-Response Tools\\nInstead of waiting for a human, these tools create replies using what they’ve learned from past \\nchats. For example:\\nCustomer: \"When will my order #789456 arrive?\" Bot: \"Your order was shipped on April 15 and \\nshould arrive by April 20.\"\\nThese tools understand what the user wants, ﬁnd the info, and send it—almost instantly.\\n7. The Future of AI in Customer Support'),\n",
       " Document(metadata={'producer': 'macOS Version 15.4 (Build 24E248) Quartz PDFContext', 'creator': 'Pages', 'creationdate': \"D:20250417073851Z00'00'\", 'title': 'task2', 'moddate': \"D:20250417073851Z00'00'\", 'source': 'data/task2.pdf', 'total_pages': 6, 'page': 4, 'page_label': '5'}, page_content='7.1 Smarter Personalization\\nIn the future, AI might remember how each user likes to be helped. Some customers want quick \\nanswers, others want detailed steps. AI will adjust accordingly.\\n7.2 More Human-Like Bots\\nVirtual assistants may soon recognize voice tones, facial expressions (on video), and even mood. \\nThis can help bots respond more naturally.\\n7.3 Helping Before You Ask\\nAI might one day predict what help you need before you reach out. For example, if you often return \\nshoes after buying a certain size, the system might suggest a better size before checkout.\\n8. Problems with AI Support\\n• Robotic Feel: Bots still can’t match human empathy.\\n• Misunderstanding Context: Jokes, sarcasm, or slang can confuse them.\\n• Bias in Data: If AI is trained on biased info, it may treat people unfairly.\\n• Privacy Issues: Customers may worry about how their data is used.\\n• Ethical Concerns: Should bots pretend to be human? How much should they know?\\n9. Mini-Project: Build a Simple Chatbot\\nGoal:\\nMake a chatbot that can answer basic customer service questions.\\nTools Needed:\\n• Python\\n• Flask (to run it on a website)\\n• NLTK or spaCy (to understand language)\\n• SQLite (for storing common questions and answers)\\nWhat It Should Do:\\n• Answer questions like \"What is your return policy?\"\\n• Understand the mood of the user'),\n",
       " Document(metadata={'producer': 'macOS Version 15.4 (Build 24E248) Quartz PDFContext', 'creator': 'Pages', 'creationdate': \"D:20250417073851Z00'00'\", 'title': 'task2', 'moddate': \"D:20250417073851Z00'00'\", 'source': 'data/task2.pdf', 'total_pages': 6, 'page': 5, 'page_label': '6'}, page_content=\"• Ask for feedback after the chat ends\\nExtra Features (Optional):\\n• Let users talk using voice\\n• Show the bot in a web app\\n10. Final Thoughts\\nAmazon and Zappos use AI in different ways to make customer support better. Amazon focuses \\nmore on speed and automation. Zappos uses AI but still values human connection. Both show how \\nAI can make support faster and smarter. As the technology grows, AI could even predict problems \\nbefore they happen. But it's also important to remember the human side—empathy, understanding, \\nand trust are still key in customer service.\\nReferences\\n• Amazon Developer Docs\\n• Articles from Forbes, HBR\\n• Zappos customer support interviews\\n• Research on NLP, AI Ethics, and Sentiment Analysis\")]"
      ]
     },
     "execution_count": 6,
     "metadata": {},
     "output_type": "execute_result"
    }
   ],
   "source": [
    "docs"
   ]
  },
  {
   "cell_type": "code",
   "execution_count": 7,
   "id": "c097264c",
   "metadata": {},
   "outputs": [
    {
     "data": {
      "text/plain": [
       "list"
      ]
     },
     "execution_count": 7,
     "metadata": {},
     "output_type": "execute_result"
    }
   ],
   "source": [
    "type(docs)"
   ]
  },
  {
   "cell_type": "code",
   "execution_count": 12,
   "id": "5ac0de35",
   "metadata": {},
   "outputs": [],
   "source": [
    "from langchain_text_splitters import RecursiveCharacterTextSplitter\n",
    "text_splitter=RecursiveCharacterTextSplitter(chunk_size=500,chunk_overlap=50)"
   ]
  },
  {
   "cell_type": "code",
   "execution_count": 14,
   "id": "cb93531c",
   "metadata": {},
   "outputs": [],
   "source": [
    "splitted_docs=text_splitter.split_documents(docs)"
   ]
  },
  {
   "cell_type": "code",
   "execution_count": 15,
   "id": "dbc82068",
   "metadata": {},
   "outputs": [
    {
     "data": {
      "text/plain": [
       "Document(metadata={'producer': 'macOS Version 15.4 (Build 24E248) Quartz PDFContext', 'creator': 'Pages', 'creationdate': \"D:20250417073851Z00'00'\", 'title': 'task2', 'moddate': \"D:20250417073851Z00'00'\", 'source': 'data/task2.pdf', 'total_pages': 6, 'page': 0, 'page_label': '1'}, page_content='How AI is Changing the Face of \\nCustomer Service – A Case Study on \\nAmazon & Zappos \\nAbstract\\nWith the rise of digital technology, companies are under pressure to offer faster and more efﬁcient \\ncustomer support. Artiﬁcial Intelligence (AI) has stepped in to ﬁll this gap. In this case study, we \\nexplore how Amazon and Zappos are using AI tools like chatbots and virtual assistants to improve \\ncustomer experience. We’ll look at how machine learning models help resolve customer queries')"
      ]
     },
     "execution_count": 15,
     "metadata": {},
     "output_type": "execute_result"
    }
   ],
   "source": [
    "splitted_docs[0]"
   ]
  },
  {
   "cell_type": "code",
   "execution_count": 16,
   "id": "d3a29ed1",
   "metadata": {},
   "outputs": [
    {
     "data": {
      "text/plain": [
       "list"
      ]
     },
     "execution_count": 16,
     "metadata": {},
     "output_type": "execute_result"
    }
   ],
   "source": [
    "type(splitted_docs)"
   ]
  },
  {
   "cell_type": "code",
   "execution_count": 20,
   "id": "e633410d",
   "metadata": {},
   "outputs": [],
   "source": [
    "## splitting data on the local text file\n",
    "\n",
    "with open(\"data/speech.txt\",'r') as f:\n",
    "    speech=f.readline()"
   ]
  },
  {
   "cell_type": "code",
   "execution_count": 21,
   "id": "a3b45638",
   "metadata": {},
   "outputs": [
    {
     "data": {
      "text/plain": [
       "'Handling missing values and performing EDA are crucial steps in data preprocessing. Missing values can distort analysis and model performance, so they are either removed or imputed using strategies like mean, median, or mode. Exploratory Data Analysis (EDA) helps in understanding data patterns, distributions, and relationships between variables. It involves summarizing data using statistics like mean and standard deviation, and visualizing it through histograms, boxplots, count plots, and heatmaps. EDA also helps detect outliers and correlations. Together, handling missing data and EDA ensure that the dataset is clean, reliable, and ready for further modeling or machine learning tasks.'"
      ]
     },
     "execution_count": 21,
     "metadata": {},
     "output_type": "execute_result"
    }
   ],
   "source": [
    "speech"
   ]
  },
  {
   "cell_type": "code",
   "execution_count": 23,
   "id": "4d9276df",
   "metadata": {},
   "outputs": [
    {
     "data": {
      "text/plain": [
       "str"
      ]
     },
     "execution_count": 23,
     "metadata": {},
     "output_type": "execute_result"
    }
   ],
   "source": [
    "type(speech)"
   ]
  },
  {
   "cell_type": "code",
   "execution_count": 24,
   "id": "d8065e70",
   "metadata": {},
   "outputs": [],
   "source": [
    "## now as we find the speech into the text format now will handle this "
   ]
  },
  {
   "cell_type": "code",
   "execution_count": 53,
   "id": "3da01916",
   "metadata": {},
   "outputs": [],
   "source": [
    "splitter=RecursiveCharacterTextSplitter(chunk_size=100,chunk_overlap=10)"
   ]
  },
  {
   "cell_type": "code",
   "execution_count": 54,
   "id": "1cfbf15a",
   "metadata": {},
   "outputs": [
    {
     "data": {
      "text/plain": [
       "list"
      ]
     },
     "execution_count": 54,
     "metadata": {},
     "output_type": "execute_result"
    }
   ],
   "source": [
    "speech_docs=splitter.create_documents([speech])\n",
    "type(speech_docs)"
   ]
  },
  {
   "cell_type": "code",
   "execution_count": 55,
   "id": "7a0a6bc5",
   "metadata": {},
   "outputs": [
    {
     "data": {
      "text/plain": [
       "[Document(metadata={}, page_content='Handling missing values and performing EDA are crucial steps in data preprocessing. Missing values'),\n",
       " Document(metadata={}, page_content='values can distort analysis and model performance, so they are either removed or imputed using'),\n",
       " Document(metadata={}, page_content='using strategies like mean, median, or mode. Exploratory Data Analysis (EDA) helps in understanding'),\n",
       " Document(metadata={}, page_content='data patterns, distributions, and relationships between variables. It involves summarizing data'),\n",
       " Document(metadata={}, page_content='data using statistics like mean and standard deviation, and visualizing it through histograms,'),\n",
       " Document(metadata={}, page_content='boxplots, count plots, and heatmaps. EDA also helps detect outliers and correlations. Together,'),\n",
       " Document(metadata={}, page_content='Together, handling missing data and EDA ensure that the dataset is clean, reliable, and ready for'),\n",
       " Document(metadata={}, page_content='ready for further modeling or machine learning tasks.')]"
      ]
     },
     "execution_count": 55,
     "metadata": {},
     "output_type": "execute_result"
    }
   ],
   "source": [
    "speech_docs"
   ]
  },
  {
   "cell_type": "code",
   "execution_count": null,
   "id": "acbd26df",
   "metadata": {},
   "outputs": [],
   "source": []
  }
 ],
 "metadata": {
  "kernelspec": {
   "display_name": "myenv",
   "language": "python",
   "name": "python3"
  },
  "language_info": {
   "codemirror_mode": {
    "name": "ipython",
    "version": 3
   },
   "file_extension": ".py",
   "mimetype": "text/x-python",
   "name": "python",
   "nbconvert_exporter": "python",
   "pygments_lexer": "ipython3",
   "version": "3.12.4"
  }
 },
 "nbformat": 4,
 "nbformat_minor": 5
}
