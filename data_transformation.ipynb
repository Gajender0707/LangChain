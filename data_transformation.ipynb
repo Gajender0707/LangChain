{
 "cells": [
  {
   "cell_type": "code",
   "execution_count": 2,
   "id": "021c1a0b",
   "metadata": {},
   "outputs": [],
   "source": [
    "import langchain\n",
    "import langchain_community"
   ]
  },
  {
   "cell_type": "code",
   "execution_count": 3,
   "id": "5d1173fd",
   "metadata": {},
   "outputs": [],
   "source": [
    "from langchain_community.document_loaders import TextLoader"
   ]
  },
  {
   "cell_type": "code",
   "execution_count": 4,
   "id": "10e0eef7",
   "metadata": {},
   "outputs": [],
   "source": [
    "from langchain_community.document_loaders import PyPDFLoader"
   ]
  },
  {
   "cell_type": "code",
   "execution_count": 5,
   "id": "0c52b7c6",
   "metadata": {},
   "outputs": [],
   "source": [
    "pdf_loader=PyPDFLoader(\"data/invoice.pdf\")"
   ]
  },
  {
   "cell_type": "code",
   "execution_count": 6,
   "id": "8042ff73",
   "metadata": {},
   "outputs": [],
   "source": [
    "docs=pdf_loader.load()"
   ]
  },
  {
   "cell_type": "code",
   "execution_count": 7,
   "id": "1b2a7103",
   "metadata": {},
   "outputs": [
    {
     "data": {
      "text/plain": [
       "[Document(metadata={'producer': 'iText 2.0.8 (by lowagie.com)', 'creator': 'PyPDF', 'creationdate': '2024-07-28T18:18:19+00:00', 'moddate': '2024-07-28T18:18:19+00:00', 'source': 'data/invoice.pdf', 'total_pages': 1, 'page': 0, 'page_label': '1'}, page_content='Tax Invoice/Bill of Supply/Cash Memo\\n(Original for Recipient)\\n*ASSPL-Amazon Seller Services Pvt. Ltd., ARIPL-Amazon Retail India Pvt. Ltd. (only where Amazon Retail India Pvt. Ltd. fulfillment center is co-located) \\nCustomers desirous of availing input GST credit are requested to create a Business account and purchase on Amazon.in/business from Business eligible offers \\nPlease note that this invoice is not a demand for payment\\nPage 1 of 1\\nFor Wellversed Health Private Limited:\\nAuthorized Signatory\\nOrder Number: 171-7257776-6985962 Invoice Number : DEL5-21928\\nOrder Date: 27.07.2024 Invoice Details : HR-DEL5-177611621-2425\\nInvoice Date : 28.07.2024\\nSl.\\nNo Description Unit\\nPrice DiscountQty Net\\nAmount\\nTax\\nRate\\nTax\\nType\\nTax\\nAmount\\nTotal\\nAmount\\n1 Wellcore - Pure Micronised Creatine Monohydrate\\n(Unflavoured, 33 Servings) | Rapid Absorption | Enhanced\\nMuscle strength & Power | B0BX46DVXZ ( WM-4FIO-4GTK\\n) \\nHSN:21069099\\n₹499.16 -₹49.92 1 ₹449.24 9% CGST ₹40.43 ₹530.10\\n9% SGST ₹40.43\\nShipping Charges ₹33.90 -₹33.90 ₹0.00 9% CGST ₹0.00 ₹0.00\\n9% SGST ₹0.00\\nTOTAL: ₹80.86₹530.10\\nAmount in Words:\\nFive Hundred Thirty Point One only\\nWhether tax is payable under reverse charge - No\\nPayment Transaction ID: \\ni93r26Shgm28hU7zo6I8nK6jTdX9M6Fyo27\\nDate & Time: 27/07/2024, 12:25:37\\nhrs\\nInvoice Value: \\n530.10\\nMode of Payment: \\nUPI\\nSold By :\\nWellversed Health Private Limited \\n* Rect/Killa Nos. 38//8/2 min, 192//22/1,196//2/1/1,\\n37//15/1, 15/2,, Adjacent to Starex School, Village\\n- Binola, National Highway -8, Tehsil - Manesar\\nGurgaon, Haryana, 122413\\nIN\\nPAN No: AACCU1276D\\nGST Registration No: 06AACCU1276D1ZM\\nFSSAI License No.\\n10820005000526\\nBilling Address :\\nGajender\\nChankya Library, Near Rasulpur road, Camp\\nColony\\nPALWAL, HARYANA, 121102\\nIN\\nState/UT Code: 06\\nShipping Address :\\nGajender \\nGajender\\nChankya Library, Near Rasulpur road, Camp\\nColony\\nPALWAL, HARYANA, 121102\\nIN\\nState/UT Code: 06 \\nPlace of supply: HARYANA \\nPlace of delivery: HARYANA')]"
      ]
     },
     "execution_count": 7,
     "metadata": {},
     "output_type": "execute_result"
    }
   ],
   "source": [
    "docs"
   ]
  },
  {
   "cell_type": "code",
   "execution_count": 8,
   "id": "c097264c",
   "metadata": {},
   "outputs": [
    {
     "data": {
      "text/plain": [
       "list"
      ]
     },
     "execution_count": 8,
     "metadata": {},
     "output_type": "execute_result"
    }
   ],
   "source": [
    "type(docs)"
   ]
  },
  {
   "cell_type": "code",
   "execution_count": 9,
   "id": "5ac0de35",
   "metadata": {},
   "outputs": [],
   "source": [
    "from langchain_text_splitters import RecursiveCharacterTextSplitter\n",
    "text_splitter=RecursiveCharacterTextSplitter(chunk_size=500,chunk_overlap=50)"
   ]
  },
  {
   "cell_type": "code",
   "execution_count": 10,
   "id": "cb93531c",
   "metadata": {},
   "outputs": [],
   "source": [
    "splitted_docs=text_splitter.split_documents(docs)"
   ]
  },
  {
   "cell_type": "code",
   "execution_count": 20,
   "id": "2995a353",
   "metadata": {},
   "outputs": [
    {
     "data": {
      "text/plain": [
       "[Document(metadata={'producer': 'iText 2.0.8 (by lowagie.com)', 'creator': 'PyPDF', 'creationdate': '2024-07-28T18:18:19+00:00', 'moddate': '2024-07-28T18:18:19+00:00', 'source': 'data/invoice.pdf', 'total_pages': 1, 'page': 0, 'page_label': '1'}, page_content='Tax Invoice/Bill of Supply/Cash Memo\\n(Original for Recipient)\\n*ASSPL-Amazon Seller Services Pvt. Ltd., ARIPL-Amazon Retail India Pvt. Ltd. (only where Amazon Retail India Pvt. Ltd. fulfillment center is co-located) \\nCustomers desirous of availing input GST credit are requested to create a Business account and purchase on Amazon.in/business from Business eligible offers \\nPlease note that this invoice is not a demand for payment\\nPage 1 of 1\\nFor Wellversed Health Private Limited:'),\n",
       " Document(metadata={'producer': 'iText 2.0.8 (by lowagie.com)', 'creator': 'PyPDF', 'creationdate': '2024-07-28T18:18:19+00:00', 'moddate': '2024-07-28T18:18:19+00:00', 'source': 'data/invoice.pdf', 'total_pages': 1, 'page': 0, 'page_label': '1'}, page_content='For Wellversed Health Private Limited:\\nAuthorized Signatory\\nOrder Number: 171-7257776-6985962 Invoice Number : DEL5-21928\\nOrder Date: 27.07.2024 Invoice Details : HR-DEL5-177611621-2425\\nInvoice Date : 28.07.2024\\nSl.\\nNo Description Unit\\nPrice DiscountQty Net\\nAmount\\nTax\\nRate\\nTax\\nType\\nTax\\nAmount\\nTotal\\nAmount\\n1 Wellcore - Pure Micronised Creatine Monohydrate\\n(Unflavoured, 33 Servings) | Rapid Absorption | Enhanced\\nMuscle strength & Power | B0BX46DVXZ ( WM-4FIO-4GTK\\n) \\nHSN:21069099'),\n",
       " Document(metadata={'producer': 'iText 2.0.8 (by lowagie.com)', 'creator': 'PyPDF', 'creationdate': '2024-07-28T18:18:19+00:00', 'moddate': '2024-07-28T18:18:19+00:00', 'source': 'data/invoice.pdf', 'total_pages': 1, 'page': 0, 'page_label': '1'}, page_content=') \\nHSN:21069099\\n₹499.16 -₹49.92 1 ₹449.24 9% CGST ₹40.43 ₹530.10\\n9% SGST ₹40.43\\nShipping Charges ₹33.90 -₹33.90 ₹0.00 9% CGST ₹0.00 ₹0.00\\n9% SGST ₹0.00\\nTOTAL: ₹80.86₹530.10\\nAmount in Words:\\nFive Hundred Thirty Point One only\\nWhether tax is payable under reverse charge - No\\nPayment Transaction ID: \\ni93r26Shgm28hU7zo6I8nK6jTdX9M6Fyo27\\nDate & Time: 27/07/2024, 12:25:37\\nhrs\\nInvoice Value: \\n530.10\\nMode of Payment: \\nUPI\\nSold By :\\nWellversed Health Private Limited'),\n",
       " Document(metadata={'producer': 'iText 2.0.8 (by lowagie.com)', 'creator': 'PyPDF', 'creationdate': '2024-07-28T18:18:19+00:00', 'moddate': '2024-07-28T18:18:19+00:00', 'source': 'data/invoice.pdf', 'total_pages': 1, 'page': 0, 'page_label': '1'}, page_content='UPI\\nSold By :\\nWellversed Health Private Limited \\n* Rect/Killa Nos. 38//8/2 min, 192//22/1,196//2/1/1,\\n37//15/1, 15/2,, Adjacent to Starex School, Village\\n- Binola, National Highway -8, Tehsil - Manesar\\nGurgaon, Haryana, 122413\\nIN\\nPAN No: AACCU1276D\\nGST Registration No: 06AACCU1276D1ZM\\nFSSAI License No.\\n10820005000526\\nBilling Address :\\nGajender\\nChankya Library, Near Rasulpur road, Camp\\nColony\\nPALWAL, HARYANA, 121102\\nIN\\nState/UT Code: 06\\nShipping Address :\\nGajender \\nGajender'),\n",
       " Document(metadata={'producer': 'iText 2.0.8 (by lowagie.com)', 'creator': 'PyPDF', 'creationdate': '2024-07-28T18:18:19+00:00', 'moddate': '2024-07-28T18:18:19+00:00', 'source': 'data/invoice.pdf', 'total_pages': 1, 'page': 0, 'page_label': '1'}, page_content='Shipping Address :\\nGajender \\nGajender\\nChankya Library, Near Rasulpur road, Camp\\nColony\\nPALWAL, HARYANA, 121102\\nIN\\nState/UT Code: 06 \\nPlace of supply: HARYANA \\nPlace of delivery: HARYANA')]"
      ]
     },
     "execution_count": 20,
     "metadata": {},
     "output_type": "execute_result"
    }
   ],
   "source": [
    "splitted_docs"
   ]
  },
  {
   "cell_type": "code",
   "execution_count": null,
   "id": "ca15d48d",
   "metadata": {},
   "outputs": [],
   "source": []
  },
  {
   "cell_type": "code",
   "execution_count": 25,
   "id": "dbc82068",
   "metadata": {},
   "outputs": [
    {
     "data": {
      "text/plain": [
       "[\"page_content='Tax Invoice/Bill of Supply/Cash Memo\",\n",
       " '(Original for Recipient)',\n",
       " '*ASSPL-Amazon Seller Services Pvt. Ltd., ARIPL-Amazon Retail India Pvt. Ltd. (only where Amazon Retail India Pvt. Ltd. fulfillment center is co-located) ',\n",
       " 'Customers desirous of availing input GST credit are requested to create a Business account and purchase on Amazon.in/business from Business eligible offers ',\n",
       " 'Please note that this invoice is not a demand for payment',\n",
       " 'Page 1 of 1',\n",
       " \"For Wellversed Health Private Limited:' metadata={'producer': 'iText 2.0.8 (by lowagie.com)', 'creator': 'PyPDF', 'creationdate': '2024-07-28T18:18:19+00:00', 'moddate': '2024-07-28T18:18:19+00:00', 'source': 'data/invoice.pdf', 'total_pages': 1, 'page': 0, 'page_label': '1'}\"]"
      ]
     },
     "execution_count": 25,
     "metadata": {},
     "output_type": "execute_result"
    }
   ],
   "source": [
    "str(splitted_docs[0]).split(\"\\n\")"
   ]
  },
  {
   "cell_type": "code",
   "execution_count": 26,
   "id": "84042391",
   "metadata": {},
   "outputs": [
    {
     "data": {
      "text/plain": [
       "[\"page_content='For Wellversed Health Private Limited:\",\n",
       " 'Authorized Signatory',\n",
       " 'Order Number: 171-7257776-6985962 Invoice Number : DEL5-21928',\n",
       " 'Order Date: 27.07.2024 Invoice Details : HR-DEL5-177611621-2425',\n",
       " 'Invoice Date : 28.07.2024',\n",
       " 'Sl.',\n",
       " 'No Description Unit',\n",
       " 'Price DiscountQty Net',\n",
       " 'Amount',\n",
       " 'Tax',\n",
       " 'Rate',\n",
       " 'Tax',\n",
       " 'Type',\n",
       " 'Tax',\n",
       " 'Amount',\n",
       " 'Total',\n",
       " 'Amount',\n",
       " '1 Wellcore - Pure Micronised Creatine Monohydrate',\n",
       " '(Unflavoured, 33 Servings) | Rapid Absorption | Enhanced',\n",
       " 'Muscle strength & Power | B0BX46DVXZ ( WM-4FIO-4GTK',\n",
       " ') ',\n",
       " \"HSN:21069099' metadata={'producer': 'iText 2.0.8 (by lowagie.com)', 'creator': 'PyPDF', 'creationdate': '2024-07-28T18:18:19+00:00', 'moddate': '2024-07-28T18:18:19+00:00', 'source': 'data/invoice.pdf', 'total_pages': 1, 'page': 0, 'page_label': '1'}\"]"
      ]
     },
     "execution_count": 26,
     "metadata": {},
     "output_type": "execute_result"
    }
   ],
   "source": [
    "str(splitted_docs[1]).split(\"\\n\")"
   ]
  },
  {
   "cell_type": "code",
   "execution_count": 12,
   "id": "d3a29ed1",
   "metadata": {},
   "outputs": [
    {
     "data": {
      "text/plain": [
       "list"
      ]
     },
     "execution_count": 12,
     "metadata": {},
     "output_type": "execute_result"
    }
   ],
   "source": [
    "type(splitted_docs)"
   ]
  },
  {
   "cell_type": "code",
   "execution_count": 13,
   "id": "e633410d",
   "metadata": {},
   "outputs": [],
   "source": [
    "## splitting data on the local text file\n",
    "\n",
    "with open(\"data/speech.txt\",'r') as f:\n",
    "    speech=f.readline()"
   ]
  },
  {
   "cell_type": "code",
   "execution_count": 14,
   "id": "a3b45638",
   "metadata": {},
   "outputs": [
    {
     "data": {
      "text/plain": [
       "'Handling missing values and performing EDA are crucial steps in data preprocessing. Missing values can distort analysis and model performance, so they are either removed or imputed using strategies like mean, median, or mode. Exploratory Data Analysis (EDA) helps in understanding data patterns, distributions, and relationships between variables. It involves summarizing data using statistics like mean and standard deviation, and visualizing it through histograms, boxplots, count plots, and heatmaps. EDA also helps detect outliers and correlations. Together, handling missing data and EDA ensure that the dataset is clean, reliable, and ready for further modeling or machine learning tasks.'"
      ]
     },
     "execution_count": 14,
     "metadata": {},
     "output_type": "execute_result"
    }
   ],
   "source": [
    "speech"
   ]
  },
  {
   "cell_type": "code",
   "execution_count": 15,
   "id": "4d9276df",
   "metadata": {},
   "outputs": [
    {
     "data": {
      "text/plain": [
       "str"
      ]
     },
     "execution_count": 15,
     "metadata": {},
     "output_type": "execute_result"
    }
   ],
   "source": [
    "type(speech)"
   ]
  },
  {
   "cell_type": "code",
   "execution_count": 16,
   "id": "d8065e70",
   "metadata": {},
   "outputs": [],
   "source": [
    "## now as we find the speech into the text format now will handle this "
   ]
  },
  {
   "cell_type": "code",
   "execution_count": 17,
   "id": "3da01916",
   "metadata": {},
   "outputs": [],
   "source": [
    "splitter=RecursiveCharacterTextSplitter(chunk_size=100,chunk_overlap=10)"
   ]
  },
  {
   "cell_type": "code",
   "execution_count": 18,
   "id": "1cfbf15a",
   "metadata": {},
   "outputs": [
    {
     "data": {
      "text/plain": [
       "list"
      ]
     },
     "execution_count": 18,
     "metadata": {},
     "output_type": "execute_result"
    }
   ],
   "source": [
    "speech_docs=splitter.create_documents([speech])\n",
    "type(speech_docs)"
   ]
  },
  {
   "cell_type": "code",
   "execution_count": 19,
   "id": "7a0a6bc5",
   "metadata": {},
   "outputs": [
    {
     "data": {
      "text/plain": [
       "[Document(metadata={}, page_content='Handling missing values and performing EDA are crucial steps in data preprocessing. Missing values'),\n",
       " Document(metadata={}, page_content='values can distort analysis and model performance, so they are either removed or imputed using'),\n",
       " Document(metadata={}, page_content='using strategies like mean, median, or mode. Exploratory Data Analysis (EDA) helps in understanding'),\n",
       " Document(metadata={}, page_content='data patterns, distributions, and relationships between variables. It involves summarizing data'),\n",
       " Document(metadata={}, page_content='data using statistics like mean and standard deviation, and visualizing it through histograms,'),\n",
       " Document(metadata={}, page_content='boxplots, count plots, and heatmaps. EDA also helps detect outliers and correlations. Together,'),\n",
       " Document(metadata={}, page_content='Together, handling missing data and EDA ensure that the dataset is clean, reliable, and ready for'),\n",
       " Document(metadata={}, page_content='ready for further modeling or machine learning tasks.')]"
      ]
     },
     "execution_count": 19,
     "metadata": {},
     "output_type": "execute_result"
    }
   ],
   "source": [
    "speech_docs"
   ]
  },
  {
   "cell_type": "code",
   "execution_count": null,
   "id": "acbd26df",
   "metadata": {},
   "outputs": [],
   "source": []
  }
 ],
 "metadata": {
  "kernelspec": {
   "display_name": "myenv",
   "language": "python",
   "name": "python3"
  },
  "language_info": {
   "codemirror_mode": {
    "name": "ipython",
    "version": 3
   },
   "file_extension": ".py",
   "mimetype": "text/x-python",
   "name": "python",
   "nbconvert_exporter": "python",
   "pygments_lexer": "ipython3",
   "version": "3.12.4"
  }
 },
 "nbformat": 4,
 "nbformat_minor": 5
}
