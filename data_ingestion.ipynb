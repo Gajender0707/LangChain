{
 "cells": [
  {
   "cell_type": "code",
   "execution_count": 1,
   "id": "c518b384",
   "metadata": {},
   "outputs": [],
   "source": [
    "from langchain_community.document_loaders import TextLoader"
   ]
  },
  {
   "cell_type": "code",
   "execution_count": 2,
   "id": "ac77a1b6",
   "metadata": {},
   "outputs": [
    {
     "data": {
      "text/plain": [
       "'/Users/sanju/Documents/DS/Generative AI/Langchain'"
      ]
     },
     "execution_count": 2,
     "metadata": {},
     "output_type": "execute_result"
    }
   ],
   "source": [
    "pwd"
   ]
  },
  {
   "cell_type": "code",
   "execution_count": 3,
   "id": "909bc1a7",
   "metadata": {},
   "outputs": [],
   "source": [
    "import os"
   ]
  },
  {
   "cell_type": "code",
   "execution_count": 4,
   "id": "41c2a213",
   "metadata": {},
   "outputs": [
    {
     "data": {
      "text/plain": [
       "<langchain_community.document_loaders.text.TextLoader at 0x1108902c0>"
      ]
     },
     "execution_count": 4,
     "metadata": {},
     "output_type": "execute_result"
    }
   ],
   "source": [
    "loader=TextLoader(\"data/speech.txt\")\n",
    "loader"
   ]
  },
  {
   "cell_type": "code",
   "execution_count": 5,
   "id": "89a7623d",
   "metadata": {},
   "outputs": [
    {
     "data": {
      "text/plain": [
       "[Document(metadata={'source': 'data/speech.txt'}, page_content='1. Amazon’s AI-Driven Customer Support\\n\\nAI Chatbots and Virtual Assistants\\n\\nAmazon employs AI chatbots and virtual assistants to streamline customer interactions. These tools handle routine inquiries, allowing human agents to focus on complex issues. Amazon Lex, a service for building conversational interfaces, powers these chatbots, enabling natural language understanding and speech recognition .\\n\\nAlexa+: The Next-Generation Assistant\\n\\nIn 2025, Amazon introduced Alexa+, an AI-enhanced version of its voice assistant. Alexa+ offers more natural conversations, personalized experiences, and the ability to complete tasks like booking rides or retrieving videos from Ring cameras . This upgrade utilizes advanced language models to optimize performance across various tasks')]"
      ]
     },
     "execution_count": 5,
     "metadata": {},
     "output_type": "execute_result"
    }
   ],
   "source": [
    "loader.load()"
   ]
  },
  {
   "cell_type": "code",
   "execution_count": 6,
   "id": "fbf77644",
   "metadata": {},
   "outputs": [],
   "source": [
    "## reading the pdf using this \n",
    "from langchain_community.document_loaders import PyPDFLoader\n",
    "pdf_loader=PyPDFLoader(\"data/task2.pdf\")"
   ]
  },
  {
   "cell_type": "code",
   "execution_count": 7,
   "id": "5b9de5b8",
   "metadata": {},
   "outputs": [
    {
     "name": "stdout",
     "output_type": "stream",
     "text": [
      "Requirement already satisfied: pypdf in ./myenv/lib/python3.12/site-packages (5.4.0)\n",
      "\n",
      "\u001b[1m[\u001b[0m\u001b[34;49mnotice\u001b[0m\u001b[1;39;49m]\u001b[0m\u001b[39;49m A new release of pip is available: \u001b[0m\u001b[31;49m24.0\u001b[0m\u001b[39;49m -> \u001b[0m\u001b[32;49m25.0.1\u001b[0m\n",
      "\u001b[1m[\u001b[0m\u001b[34;49mnotice\u001b[0m\u001b[1;39;49m]\u001b[0m\u001b[39;49m To update, run: \u001b[0m\u001b[32;49mpip install --upgrade pip\u001b[0m\n"
     ]
    }
   ],
   "source": [
    "! pip install pypdf"
   ]
  },
  {
   "cell_type": "code",
   "execution_count": 8,
   "id": "56d402da",
   "metadata": {},
   "outputs": [
    {
     "name": "stderr",
     "output_type": "stream",
     "text": [
      "Ignoring wrong pointing object 32 0 (offset 0)\n",
      "Ignoring wrong pointing object 33 0 (offset 0)\n"
     ]
    },
    {
     "data": {
      "text/plain": [
       "[Document(metadata={'producer': 'macOS Version 15.4 (Build 24E248) Quartz PDFContext', 'creator': 'Pages', 'creationdate': \"D:20250417073851Z00'00'\", 'title': 'task2', 'moddate': \"D:20250417073851Z00'00'\", 'source': 'data/task2.pdf', 'total_pages': 6, 'page': 0, 'page_label': '1'}, page_content='How AI is Changing the Face of \\nCustomer Service – A Case Study on \\nAmazon & Zappos \\nAbstract\\nWith the rise of digital technology, companies are under pressure to offer faster and more efﬁcient \\ncustomer support. Artiﬁcial Intelligence (AI) has stepped in to ﬁll this gap. In this case study, we \\nexplore how Amazon and Zappos are using AI tools like chatbots and virtual assistants to improve \\ncustomer experience. We’ll look at how machine learning models help resolve customer queries \\nquicker, what challenges exist in making AI feel more human, and what the future holds for AI in \\ncustomer support. This study also includes a mini-project proposal where students can build a basic \\nchatbot.\\n1. Introduction\\nCustomer service is a key factor in customer satisfaction and loyalty. With millions of daily users, \\ncompanies like Amazon and Zappos need solutions that scale and respond quickly. AI is helping \\nthem manage huge volumes of customer queries efﬁciently. While these tools can’t replace human \\nempathy, they’re getting better at handling common problems and saving time for both companies \\nand customers.\\n2. How Amazon Uses AI in Customer Service'),\n",
       " Document(metadata={'producer': 'macOS Version 15.4 (Build 24E248) Quartz PDFContext', 'creator': 'Pages', 'creationdate': \"D:20250417073851Z00'00'\", 'title': 'task2', 'moddate': \"D:20250417073851Z00'00'\", 'source': 'data/task2.pdf', 'total_pages': 6, 'page': 1, 'page_label': '2'}, page_content=\"Amazon has built one of the most advanced AI systems in the customer service world. Here's how \\nthey use it:\\n2.1 Chatbots and Virtual Assistants\\nAmazon’s customer service chatbots can answer questions about orders, deliveries, returns, and \\nmore. These bots are built using Amazon’s own tools like Amazon Lex and are available 24/7.\\n2.2 Alexa for Customer Help\\nAmazon Alexa isn’t just for music or news. It can also tell you where your order is, help with \\nsimple troubleshooting, and connect you to a human agent if needed. This hands-free method is \\ngreat for busy users.\\n2.3 Machine Learning Models\\nBehind the scenes, Amazon uses data to learn what customers need. Their systems automatically \\nroute queries, prioritize important issues, and offer personalized product recommendations based on \\nbrowsing and purchase history.\\n3. How Zappos Uses AI Differently\"),\n",
       " Document(metadata={'producer': 'macOS Version 15.4 (Build 24E248) Quartz PDFContext', 'creator': 'Pages', 'creationdate': \"D:20250417073851Z00'00'\", 'title': 'task2', 'moddate': \"D:20250417073851Z00'00'\", 'source': 'data/task2.pdf', 'total_pages': 6, 'page': 2, 'page_label': '3'}, page_content='Zappos is known for its unique approach to customer service. Even though it’s owned by Amazon, \\nit does things a bit differently.\\n3.1 A Mix of Humans and AI\\nZappos believes in human connections. So, while it uses AI to ﬁlter and understand basic customer \\nneeds, it relies on human agents to solve more complex problems. This balance helps keep the \\npersonal touch.\\n3.2 Smarter Customer Data Tools\\nAI is used behind the scenes to help agents know the customer better. Based on previous purchases \\nand chats, Zappos’ systems give suggestions to customer reps, which leads to quicker and more \\npersonalized support.\\n3.3 Sentiment Detection\\nZappos uses AI to read the tone of messages. If a customer sounds angry or upset, the system \\nhighlights the case for faster human handling. This way, serious complaints get priority.\\n4. Comparing Traditional and AI-Powered Customer Support\\nDiagram: Chatbot Workﬂow [Visual idea: Customer > Bot understands intent > Picks response > \\nSends reply or forwards to human if needed]\\n5. Why AI Helps in Customer Service\\n• Shorter Wait Times: Bots can talk to hundreds of people at once.\\n• Faster Problem Solving: They quickly pull up order or product info.\\n• Lower Costs: One bot can do the job of many agents for simple tasks.\\n• Smart Routing: Urgent queries go to the right person or team automatically.\\nFeature Traditional Support AI-Powered \\nSupport\\nAvailable \\nHours Limited (usually 9–5) 24/7 Availability\\nHandling \\nSpeed\\nSlow for high \\nvolumes Fast and scalable\\nCost High labor cost Lower long-term cost\\nPersonal Touch High Depends on training\\nConsistency Varies by agent Always consistent'),\n",
       " Document(metadata={'producer': 'macOS Version 15.4 (Build 24E248) Quartz PDFContext', 'creator': 'Pages', 'creationdate': \"D:20250417073851Z00'00'\", 'title': 'task2', 'moddate': \"D:20250417073851Z00'00'\", 'source': 'data/task2.pdf', 'total_pages': 6, 'page': 3, 'page_label': '4'}, page_content='6. Sentiment Analysis & Auto-Response: How They Work\\n6.1 Understanding Emotions with Sentiment Analysis\\nAI tools try to read emotions from the way people type. For example:\\n• \"I need this ﬁxed right now!\" might be ﬂagged as urgent or negative.\\n• \"Thanks for the help!\" is seen as a positive comment.\\nThis helps companies decide when to get a human involved or when to offer a discount or apology.\\n6.2 Quick Replies with Auto-Response Tools\\nInstead of waiting for a human, these tools create replies using what they’ve learned from past \\nchats. For example:\\nCustomer: \"When will my order #789456 arrive?\" Bot: \"Your order was shipped on April 15 and \\nshould arrive by April 20.\"\\nThese tools understand what the user wants, ﬁnd the info, and send it—almost instantly.\\n7. The Future of AI in Customer Support'),\n",
       " Document(metadata={'producer': 'macOS Version 15.4 (Build 24E248) Quartz PDFContext', 'creator': 'Pages', 'creationdate': \"D:20250417073851Z00'00'\", 'title': 'task2', 'moddate': \"D:20250417073851Z00'00'\", 'source': 'data/task2.pdf', 'total_pages': 6, 'page': 4, 'page_label': '5'}, page_content='7.1 Smarter Personalization\\nIn the future, AI might remember how each user likes to be helped. Some customers want quick \\nanswers, others want detailed steps. AI will adjust accordingly.\\n7.2 More Human-Like Bots\\nVirtual assistants may soon recognize voice tones, facial expressions (on video), and even mood. \\nThis can help bots respond more naturally.\\n7.3 Helping Before You Ask\\nAI might one day predict what help you need before you reach out. For example, if you often return \\nshoes after buying a certain size, the system might suggest a better size before checkout.\\n8. Problems with AI Support\\n• Robotic Feel: Bots still can’t match human empathy.\\n• Misunderstanding Context: Jokes, sarcasm, or slang can confuse them.\\n• Bias in Data: If AI is trained on biased info, it may treat people unfairly.\\n• Privacy Issues: Customers may worry about how their data is used.\\n• Ethical Concerns: Should bots pretend to be human? How much should they know?\\n9. Mini-Project: Build a Simple Chatbot\\nGoal:\\nMake a chatbot that can answer basic customer service questions.\\nTools Needed:\\n• Python\\n• Flask (to run it on a website)\\n• NLTK or spaCy (to understand language)\\n• SQLite (for storing common questions and answers)\\nWhat It Should Do:\\n• Answer questions like \"What is your return policy?\"\\n• Understand the mood of the user'),\n",
       " Document(metadata={'producer': 'macOS Version 15.4 (Build 24E248) Quartz PDFContext', 'creator': 'Pages', 'creationdate': \"D:20250417073851Z00'00'\", 'title': 'task2', 'moddate': \"D:20250417073851Z00'00'\", 'source': 'data/task2.pdf', 'total_pages': 6, 'page': 5, 'page_label': '6'}, page_content=\"• Ask for feedback after the chat ends\\nExtra Features (Optional):\\n• Let users talk using voice\\n• Show the bot in a web app\\n10. Final Thoughts\\nAmazon and Zappos use AI in different ways to make customer support better. Amazon focuses \\nmore on speed and automation. Zappos uses AI but still values human connection. Both show how \\nAI can make support faster and smarter. As the technology grows, AI could even predict problems \\nbefore they happen. But it's also important to remember the human side—empathy, understanding, \\nand trust are still key in customer service.\\nReferences\\n• Amazon Developer Docs\\n• Articles from Forbes, HBR\\n• Zappos customer support interviews\\n• Research on NLP, AI Ethics, and Sentiment Analysis\")]"
      ]
     },
     "execution_count": 8,
     "metadata": {},
     "output_type": "execute_result"
    }
   ],
   "source": [
    "docs=pdf_loader.load()\n",
    "docs"
   ]
  },
  {
   "cell_type": "code",
   "execution_count": 9,
   "id": "8adf3211",
   "metadata": {},
   "outputs": [
    {
     "name": "stderr",
     "output_type": "stream",
     "text": [
      "USER_AGENT environment variable not set, consider setting it to identify your requests.\n"
     ]
    }
   ],
   "source": [
    "## reading the webpage using the langchain_community.documents_loders\n",
    "from langchain_community.document_loaders import WebBaseLoader\n",
    "web_loader=WebBaseLoader(web_paths=(\"https://www.langchain.com\"),)"
   ]
  },
  {
   "cell_type": "code",
   "execution_count": 10,
   "id": "c2e5656d",
   "metadata": {},
   "outputs": [
    {
     "ename": "ModuleNotFoundError",
     "evalue": "No module named 'bs4'",
     "output_type": "error",
     "traceback": [
      "\u001b[31m---------------------------------------------------------------------------\u001b[39m",
      "\u001b[31mModuleNotFoundError\u001b[39m                       Traceback (most recent call last)",
      "\u001b[36mCell\u001b[39m\u001b[36m \u001b[39m\u001b[32mIn[10]\u001b[39m\u001b[32m, line 1\u001b[39m\n\u001b[32m----> \u001b[39m\u001b[32m1\u001b[39m \u001b[43mweb_loader\u001b[49m\u001b[43m.\u001b[49m\u001b[43mload\u001b[49m\u001b[43m(\u001b[49m\u001b[43m)\u001b[49m\n",
      "\u001b[36mFile \u001b[39m\u001b[32m~/Documents/DS/Generative AI/Langchain/myenv/lib/python3.12/site-packages/langchain_core/document_loaders/base.py:32\u001b[39m, in \u001b[36mBaseLoader.load\u001b[39m\u001b[34m(self)\u001b[39m\n\u001b[32m     30\u001b[39m \u001b[38;5;28;01mdef\u001b[39;00m\u001b[38;5;250m \u001b[39m\u001b[34mload\u001b[39m(\u001b[38;5;28mself\u001b[39m) -> \u001b[38;5;28mlist\u001b[39m[Document]:\n\u001b[32m     31\u001b[39m \u001b[38;5;250m    \u001b[39m\u001b[33;03m\"\"\"Load data into Document objects.\"\"\"\u001b[39;00m\n\u001b[32m---> \u001b[39m\u001b[32m32\u001b[39m     \u001b[38;5;28;01mreturn\u001b[39;00m \u001b[38;5;28;43mlist\u001b[39;49m\u001b[43m(\u001b[49m\u001b[38;5;28;43mself\u001b[39;49m\u001b[43m.\u001b[49m\u001b[43mlazy_load\u001b[49m\u001b[43m(\u001b[49m\u001b[43m)\u001b[49m\u001b[43m)\u001b[49m\n",
      "\u001b[36mFile \u001b[39m\u001b[32m~/Documents/DS/Generative AI/Langchain/myenv/lib/python3.12/site-packages/langchain_community/document_loaders/web_base.py:378\u001b[39m, in \u001b[36mWebBaseLoader.lazy_load\u001b[39m\u001b[34m(self)\u001b[39m\n\u001b[32m    376\u001b[39m \u001b[38;5;250m\u001b[39m\u001b[33;03m\"\"\"Lazy load text from the url(s) in web_path.\"\"\"\u001b[39;00m\n\u001b[32m    377\u001b[39m \u001b[38;5;28;01mfor\u001b[39;00m path \u001b[38;5;129;01min\u001b[39;00m \u001b[38;5;28mself\u001b[39m.web_paths:\n\u001b[32m--> \u001b[39m\u001b[32m378\u001b[39m     soup = \u001b[38;5;28;43mself\u001b[39;49m\u001b[43m.\u001b[49m\u001b[43m_scrape\u001b[49m\u001b[43m(\u001b[49m\u001b[43mpath\u001b[49m\u001b[43m,\u001b[49m\u001b[43m \u001b[49m\u001b[43mbs_kwargs\u001b[49m\u001b[43m=\u001b[49m\u001b[38;5;28;43mself\u001b[39;49m\u001b[43m.\u001b[49m\u001b[43mbs_kwargs\u001b[49m\u001b[43m)\u001b[49m\n\u001b[32m    379\u001b[39m     text = soup.get_text(**\u001b[38;5;28mself\u001b[39m.bs_get_text_kwargs)\n\u001b[32m    380\u001b[39m     metadata = _build_metadata(soup, path)\n",
      "\u001b[36mFile \u001b[39m\u001b[32m~/Documents/DS/Generative AI/Langchain/myenv/lib/python3.12/site-packages/langchain_community/document_loaders/web_base.py:347\u001b[39m, in \u001b[36mWebBaseLoader._scrape\u001b[39m\u001b[34m(self, url, parser, bs_kwargs)\u001b[39m\n\u001b[32m    341\u001b[39m \u001b[38;5;28;01mdef\u001b[39;00m\u001b[38;5;250m \u001b[39m\u001b[34m_scrape\u001b[39m(\n\u001b[32m    342\u001b[39m     \u001b[38;5;28mself\u001b[39m,\n\u001b[32m    343\u001b[39m     url: \u001b[38;5;28mstr\u001b[39m,\n\u001b[32m    344\u001b[39m     parser: Union[\u001b[38;5;28mstr\u001b[39m, \u001b[38;5;28;01mNone\u001b[39;00m] = \u001b[38;5;28;01mNone\u001b[39;00m,\n\u001b[32m    345\u001b[39m     bs_kwargs: Optional[\u001b[38;5;28mdict\u001b[39m] = \u001b[38;5;28;01mNone\u001b[39;00m,\n\u001b[32m    346\u001b[39m ) -> Any:\n\u001b[32m--> \u001b[39m\u001b[32m347\u001b[39m     \u001b[38;5;28;01mfrom\u001b[39;00m\u001b[38;5;250m \u001b[39m\u001b[34;01mbs4\u001b[39;00m\u001b[38;5;250m \u001b[39m\u001b[38;5;28;01mimport\u001b[39;00m BeautifulSoup\n\u001b[32m    349\u001b[39m     \u001b[38;5;28;01mif\u001b[39;00m parser \u001b[38;5;129;01mis\u001b[39;00m \u001b[38;5;28;01mNone\u001b[39;00m:\n\u001b[32m    350\u001b[39m         \u001b[38;5;28;01mif\u001b[39;00m url.endswith(\u001b[33m\"\u001b[39m\u001b[33m.xml\u001b[39m\u001b[33m\"\u001b[39m):\n",
      "\u001b[31mModuleNotFoundError\u001b[39m: No module named 'bs4'"
     ]
    }
   ],
   "source": [
    "web_loader.load()"
   ]
  },
  {
   "cell_type": "code",
   "execution_count": null,
   "id": "093a789c",
   "metadata": {},
   "outputs": [],
   "source": []
  }
 ],
 "metadata": {
  "kernelspec": {
   "display_name": "myenv",
   "language": "python",
   "name": "python3"
  },
  "language_info": {
   "codemirror_mode": {
    "name": "ipython",
    "version": 3
   },
   "file_extension": ".py",
   "mimetype": "text/x-python",
   "name": "python",
   "nbconvert_exporter": "python",
   "pygments_lexer": "ipython3",
   "version": "3.12.4"
  }
 },
 "nbformat": 4,
 "nbformat_minor": 5
}
