{
 "cells": [
  {
   "cell_type": "code",
   "execution_count": 1,
   "id": "00f330db",
   "metadata": {},
   "outputs": [],
   "source": [
    "import pandas as pd\n",
    "import numpy as np "
   ]
  },
  {
   "cell_type": "code",
   "execution_count": 2,
   "id": "a165615e",
   "metadata": {},
   "outputs": [
    {
     "name": "stdout",
     "output_type": "stream",
     "text": [
      "             Sales\n",
      "Region Year       \n",
      "East   2020    100\n",
      "       2021    120\n",
      "West   2020     80\n",
      "       2021     90\n"
     ]
    }
   ],
   "source": [
    "df = pd.DataFrame({\n",
    "    'Region': ['East', 'East', 'West', 'West'],\n",
    "    'Year': [2020, 2021, 2020, 2021],\n",
    "    'Sales': [100, 120, 80, 90]\n",
    "})\n",
    "\n",
    "df = df.set_index(['Region', 'Year'])\n",
    "print(df)"
   ]
  },
  {
   "cell_type": "code",
   "execution_count": 3,
   "id": "bd3ac34f",
   "metadata": {},
   "outputs": [
    {
     "data": {
      "text/plain": [
       "Sales    120\n",
       "Name: (East, 2021), dtype: int64"
      ]
     },
     "execution_count": 3,
     "metadata": {},
     "output_type": "execute_result"
    }
   ],
   "source": [
    "df.loc[('East', 2021)]"
   ]
  },
  {
   "cell_type": "code",
   "execution_count": null,
   "id": "5dc50712",
   "metadata": {},
   "outputs": [],
   "source": []
  }
 ],
 "metadata": {
  "kernelspec": {
   "display_name": "myenv",
   "language": "python",
   "name": "python3"
  },
  "language_info": {
   "codemirror_mode": {
    "name": "ipython",
    "version": 3
   },
   "file_extension": ".py",
   "mimetype": "text/x-python",
   "name": "python",
   "nbconvert_exporter": "python",
   "pygments_lexer": "ipython3",
   "version": "3.12.4"
  }
 },
 "nbformat": 4,
 "nbformat_minor": 5
}
